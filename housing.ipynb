{
  "nbformat": 4,
  "nbformat_minor": 0,
  "metadata": {
    "colab": {
      "provenance": [],
      "authorship_tag": "ABX9TyOFEGlpKXLhVSTpbAmV4iGW",
      "include_colab_link": true
    },
    "kernelspec": {
      "name": "python3",
      "display_name": "Python 3"
    },
    "language_info": {
      "name": "python"
    }
  },
  "cells": [
    {
      "cell_type": "markdown",
      "metadata": {
        "id": "view-in-github",
        "colab_type": "text"
      },
      "source": [
        "<a href=\"https://colab.research.google.com/github/iconoclasst/predicao_valor_de_casas/blob/main/housing.ipynb\" target=\"_parent\"><img src=\"https://colab.research.google.com/assets/colab-badge.svg\" alt=\"Open In Colab\"/></a>"
      ]
    },
    {
      "cell_type": "code",
      "execution_count": null,
      "metadata": {
        "colab": {
          "base_uri": "https://localhost:8080/"
        },
        "id": "lDZRs3q1wmIW",
        "outputId": "f6c20d92-9a3b-4d1f-e889-d62769e2f247"
      },
      "outputs": [
        {
          "output_type": "stream",
          "name": "stdout",
          "text": [
            "Requirement already satisfied: pandas in /usr/local/lib/python3.12/dist-packages (2.2.2)\n",
            "Requirement already satisfied: numpy in /usr/local/lib/python3.12/dist-packages (2.0.2)\n",
            "Requirement already satisfied: python-dateutil>=2.8.2 in /usr/local/lib/python3.12/dist-packages (from pandas) (2.9.0.post0)\n",
            "Requirement already satisfied: pytz>=2020.1 in /usr/local/lib/python3.12/dist-packages (from pandas) (2025.2)\n",
            "Requirement already satisfied: tzdata>=2022.7 in /usr/local/lib/python3.12/dist-packages (from pandas) (2025.2)\n",
            "Requirement already satisfied: six>=1.5 in /usr/local/lib/python3.12/dist-packages (from python-dateutil>=2.8.2->pandas) (1.17.0)\n"
          ]
        }
      ],
      "source": [
        "!pip install pandas numpy"
      ]
    },
    {
      "cell_type": "code",
      "source": [
        "import kagglehub\n",
        "\n",
        "# Download latest version\n",
        "path = kagglehub.dataset_download(\"camnugent/california-housing-prices\")\n",
        "\n",
        "print(\"Path to dataset files:\", path)"
      ],
      "metadata": {
        "colab": {
          "base_uri": "https://localhost:8080/"
        },
        "id": "yDY-6Z1rxY19",
        "outputId": "2e308d8d-88f4-45a6-ad7c-8fe9a73eb637"
      },
      "execution_count": null,
      "outputs": [
        {
          "output_type": "stream",
          "name": "stdout",
          "text": [
            "Using Colab cache for faster access to the 'california-housing-prices' dataset.\n",
            "Path to dataset files: /kaggle/input/california-housing-prices\n"
          ]
        }
      ]
    },
    {
      "cell_type": "code",
      "source": [
        "import pandas as pd\n",
        "import numpy as np\n",
        "df = pd.read_csv(\"/kaggle/input/california-housing-prices/housing.csv\")\n"
      ],
      "metadata": {
        "id": "cFqF5I994OR_"
      },
      "execution_count": null,
      "outputs": []
    },
    {
      "cell_type": "code",
      "source": [
        "# df.columns\n",
        "X = df.drop(columns=['median_house_value'])\n",
        "y = df['median_house_value']"
      ],
      "metadata": {
        "id": "I_vtzfR24g2T"
      },
      "execution_count": null,
      "outputs": []
    },
    {
      "cell_type": "code",
      "source": [
        "X.isnull().sum()"
      ],
      "metadata": {
        "colab": {
          "base_uri": "https://localhost:8080/",
          "height": 366
        },
        "id": "swEsF0ho8VFo",
        "outputId": "b6962a19-4181-440c-d89a-4cb7d32537f7"
      },
      "execution_count": null,
      "outputs": [
        {
          "output_type": "execute_result",
          "data": {
            "text/plain": [
              "longitude               0\n",
              "latitude                0\n",
              "housing_median_age      0\n",
              "total_rooms             0\n",
              "total_bedrooms        207\n",
              "population              0\n",
              "households              0\n",
              "median_income           0\n",
              "ocean_proximity         0\n",
              "dtype: int64"
            ],
            "text/html": [
              "<div>\n",
              "<style scoped>\n",
              "    .dataframe tbody tr th:only-of-type {\n",
              "        vertical-align: middle;\n",
              "    }\n",
              "\n",
              "    .dataframe tbody tr th {\n",
              "        vertical-align: top;\n",
              "    }\n",
              "\n",
              "    .dataframe thead th {\n",
              "        text-align: right;\n",
              "    }\n",
              "</style>\n",
              "<table border=\"1\" class=\"dataframe\">\n",
              "  <thead>\n",
              "    <tr style=\"text-align: right;\">\n",
              "      <th></th>\n",
              "      <th>0</th>\n",
              "    </tr>\n",
              "  </thead>\n",
              "  <tbody>\n",
              "    <tr>\n",
              "      <th>longitude</th>\n",
              "      <td>0</td>\n",
              "    </tr>\n",
              "    <tr>\n",
              "      <th>latitude</th>\n",
              "      <td>0</td>\n",
              "    </tr>\n",
              "    <tr>\n",
              "      <th>housing_median_age</th>\n",
              "      <td>0</td>\n",
              "    </tr>\n",
              "    <tr>\n",
              "      <th>total_rooms</th>\n",
              "      <td>0</td>\n",
              "    </tr>\n",
              "    <tr>\n",
              "      <th>total_bedrooms</th>\n",
              "      <td>207</td>\n",
              "    </tr>\n",
              "    <tr>\n",
              "      <th>population</th>\n",
              "      <td>0</td>\n",
              "    </tr>\n",
              "    <tr>\n",
              "      <th>households</th>\n",
              "      <td>0</td>\n",
              "    </tr>\n",
              "    <tr>\n",
              "      <th>median_income</th>\n",
              "      <td>0</td>\n",
              "    </tr>\n",
              "    <tr>\n",
              "      <th>ocean_proximity</th>\n",
              "      <td>0</td>\n",
              "    </tr>\n",
              "  </tbody>\n",
              "</table>\n",
              "</div><br><label><b>dtype:</b> int64</label>"
            ]
          },
          "metadata": {},
          "execution_count": 37
        }
      ]
    },
    {
      "cell_type": "code",
      "source": [
        "X['total_bedrooms'] = X['total_bedrooms'].fillna(0)"
      ],
      "metadata": {
        "id": "Gdih98W19IbX"
      },
      "execution_count": null,
      "outputs": []
    },
    {
      "cell_type": "code",
      "source": [
        "from sklearn.preprocessing import LabelEncoder\n",
        "label_encoder=LabelEncoder()\n",
        "\n",
        "X['ocean_proximity']=label_encoder.fit_transform(X['ocean_proximity'])"
      ],
      "metadata": {
        "id": "tUenQhpcSbvp"
      },
      "execution_count": null,
      "outputs": []
    },
    {
      "cell_type": "code",
      "source": [
        "from sklearn.model_selection import train_test_split\n",
        "X_train, X_test, y_train, y_test = train_test_split(\n",
        "    X, y, test_size=0.2, random_state=42)"
      ],
      "metadata": {
        "id": "2otaw1Z89z01"
      },
      "execution_count": null,
      "outputs": []
    },
    {
      "cell_type": "code",
      "source": [
        "from sklearn.preprocessing import MinMaxScaler\n",
        "scaler = MinMaxScaler()\n",
        "X_train = scaler.fit_transform(X_train)\n",
        "X_test = scaler.transform(X_test)"
      ],
      "metadata": {
        "id": "x5M4GTtoGUlH"
      },
      "execution_count": null,
      "outputs": []
    },
    {
      "cell_type": "code",
      "source": [
        "from sklearn.linear_model import LinearRegression\n",
        "from sklearn.metrics import mean_absolute_error, mean_squared_error, r2_score\n",
        "\n",
        "\n",
        "model = LinearRegression()\n",
        "model.fit(X_train, y_train)\n",
        "y_pred = model.predict(X_test)\n",
        "\n",
        "mae = mean_absolute_error(y_test, y_pred)\n",
        "mse = mean_squared_error(y_test, y_pred)\n",
        "rmse = np.sqrt(mse)\n",
        "r2 = r2_score(y_test, y_pred)\n",
        "\n",
        "metrics = [\"MAE\", \"MSE\", \"RMSE\", \"R2\"]\n",
        "values = [mae, mse, rmse, r2]\n",
        "\n",
        "for metric, value in zip(metrics, values):\n",
        "    print(f\"{metric}: {value:.2f}\")"
      ],
      "metadata": {
        "colab": {
          "base_uri": "https://localhost:8080/"
        },
        "id": "LvCsxH6PTT6c",
        "outputId": "6c2f9ed3-7d15-4c41-b158-985495e1bc94"
      },
      "execution_count": null,
      "outputs": [
        {
          "output_type": "stream",
          "name": "stdout",
          "text": [
            "MAE: 52625.57\n",
            "MSE: 5250540643.60\n",
            "RMSE: 72460.61\n",
            "R2: 0.60\n"
          ]
        }
      ]
    },
    {
      "cell_type": "code",
      "source": [
        "from sklearn.ensemble import RandomForestRegressor\n",
        "\n",
        "model = RandomForestRegressor(n_estimators=100, max_depth=None, random_state=42)\n",
        "model.fit(X_train, y_train)\n",
        "y_pred = model.predict(X_test)\n",
        "\n",
        "mae = mean_absolute_error(y_test, y_pred)\n",
        "mse = mean_squared_error(y_test, y_pred)\n",
        "rmse = np.sqrt(mse)\n",
        "r2 = r2_score(y_test, y_pred)\n",
        "\n",
        "metrics = [\"MAE\", \"MSE\", \"RMSE\", \"R2\"]\n",
        "values = [mae, mse, rmse, r2]\n",
        "\n",
        "for metric, value in zip(metrics, values):\n",
        "    print(f\"{metric}: {value:.2f}\")\n"
      ],
      "metadata": {
        "colab": {
          "base_uri": "https://localhost:8080/"
        },
        "id": "vtwi1FurU8tN",
        "outputId": "4fc305e1-dc24-441a-f8bd-82984589c3f5"
      },
      "execution_count": null,
      "outputs": [
        {
          "output_type": "stream",
          "name": "stdout",
          "text": [
            "MAE: 32748.63\n",
            "MSE: 2595005311.05\n",
            "RMSE: 50941.19\n",
            "R2: 0.80\n"
          ]
        }
      ]
    },
    {
      "cell_type": "code",
      "source": [
        "import tensorflow\n",
        "from tensorflow.keras.models import Sequential\n",
        "from tensorflow.keras.layers import Dense\n",
        "\n",
        "model = Sequential()\n",
        "model.add(Dense(32, activation='relu', input_shape=(X_train.shape[1],)))\n",
        "model.add(Dense(16, activation='relu'))\n",
        "model.add(Dense(1, activation='linear'))"
      ],
      "metadata": {
        "id": "X4LQocosWOWd",
        "colab": {
          "base_uri": "https://localhost:8080/"
        },
        "outputId": "1e5e1b22-2cc2-4604-947f-c6abfef92ad0"
      },
      "execution_count": 52,
      "outputs": [
        {
          "output_type": "stream",
          "name": "stderr",
          "text": [
            "/usr/local/lib/python3.12/dist-packages/keras/src/layers/core/dense.py:93: UserWarning: Do not pass an `input_shape`/`input_dim` argument to a layer. When using Sequential models, prefer using an `Input(shape)` object as the first layer in the model instead.\n",
            "  super().__init__(activity_regularizer=activity_regularizer, **kwargs)\n"
          ]
        }
      ]
    },
    {
      "cell_type": "code",
      "source": [
        "model.compile(optimizer='adam', loss='mse', metrics=['mae'])\n",
        "\n",
        "history = model.fit(X_train, y_train, validation_split=0.1, epochs=100, batch_size=32, verbose=1)\n"
      ],
      "metadata": {
        "colab": {
          "base_uri": "https://localhost:8080/"
        },
        "collapsed": true,
        "id": "nBawpw3gWnXa",
        "outputId": "3aeda738-8dcb-4a1a-935e-891d4d5c5670"
      },
      "execution_count": 58,
      "outputs": [
        {
          "output_type": "stream",
          "name": "stdout",
          "text": [
            "Epoch 1/100\n",
            "\u001b[1m465/465\u001b[0m \u001b[32m━━━━━━━━━━━━━━━━━━━━\u001b[0m\u001b[37m\u001b[0m \u001b[1m3s\u001b[0m 2ms/step - loss: 8571883520.0000 - mae: 73490.2188 - val_loss: 9184525312.0000 - val_mae: 75350.2344\n",
            "Epoch 2/100\n",
            "\u001b[1m465/465\u001b[0m \u001b[32m━━━━━━━━━━━━━━━━━━━━\u001b[0m\u001b[37m\u001b[0m \u001b[1m1s\u001b[0m 2ms/step - loss: 8727665664.0000 - mae: 74144.5938 - val_loss: 9039338496.0000 - val_mae: 74607.8438\n",
            "Epoch 3/100\n",
            "\u001b[1m465/465\u001b[0m \u001b[32m━━━━━━━━━━━━━━━━━━━━\u001b[0m\u001b[37m\u001b[0m \u001b[1m1s\u001b[0m 2ms/step - loss: 8468900864.0000 - mae: 73501.8047 - val_loss: 8892683264.0000 - val_mae: 73830.9453\n",
            "Epoch 4/100\n",
            "\u001b[1m465/465\u001b[0m \u001b[32m━━━━━━━━━━━━━━━━━━━━\u001b[0m\u001b[37m\u001b[0m \u001b[1m1s\u001b[0m 3ms/step - loss: 8271440896.0000 - mae: 72068.1484 - val_loss: 8743088128.0000 - val_mae: 73280.1172\n",
            "Epoch 5/100\n",
            "\u001b[1m465/465\u001b[0m \u001b[32m━━━━━━━━━━━━━━━━━━━━\u001b[0m\u001b[37m\u001b[0m \u001b[1m1s\u001b[0m 2ms/step - loss: 8279636480.0000 - mae: 72228.5156 - val_loss: 8596789248.0000 - val_mae: 72333.9219\n",
            "Epoch 6/100\n",
            "\u001b[1m465/465\u001b[0m \u001b[32m━━━━━━━━━━━━━━━━━━━━\u001b[0m\u001b[37m\u001b[0m \u001b[1m1s\u001b[0m 2ms/step - loss: 7979691008.0000 - mae: 70487.1797 - val_loss: 8444854784.0000 - val_mae: 71732.6016\n",
            "Epoch 7/100\n",
            "\u001b[1m465/465\u001b[0m \u001b[32m━━━━━━━━━━━━━━━━━━━━\u001b[0m\u001b[37m\u001b[0m \u001b[1m1s\u001b[0m 2ms/step - loss: 7958066176.0000 - mae: 70231.9922 - val_loss: 8293420032.0000 - val_mae: 70994.1328\n",
            "Epoch 8/100\n",
            "\u001b[1m465/465\u001b[0m \u001b[32m━━━━━━━━━━━━━━━━━━━━\u001b[0m\u001b[37m\u001b[0m \u001b[1m1s\u001b[0m 2ms/step - loss: 7907491840.0000 - mae: 70134.6719 - val_loss: 8144721920.0000 - val_mae: 70107.0312\n",
            "Epoch 9/100\n",
            "\u001b[1m465/465\u001b[0m \u001b[32m━━━━━━━━━━━━━━━━━━━━\u001b[0m\u001b[37m\u001b[0m \u001b[1m1s\u001b[0m 2ms/step - loss: 7604998144.0000 - mae: 68868.8672 - val_loss: 7996792320.0000 - val_mae: 69345.7656\n",
            "Epoch 10/100\n",
            "\u001b[1m465/465\u001b[0m \u001b[32m━━━━━━━━━━━━━━━━━━━━\u001b[0m\u001b[37m\u001b[0m \u001b[1m2s\u001b[0m 4ms/step - loss: 7558940160.0000 - mae: 68130.8359 - val_loss: 7853302784.0000 - val_mae: 68632.0703\n",
            "Epoch 11/100\n",
            "\u001b[1m465/465\u001b[0m \u001b[32m━━━━━━━━━━━━━━━━━━━━\u001b[0m\u001b[37m\u001b[0m \u001b[1m2s\u001b[0m 3ms/step - loss: 7302535680.0000 - mae: 67075.3516 - val_loss: 7711700992.0000 - val_mae: 68045.0625\n",
            "Epoch 12/100\n",
            "\u001b[1m465/465\u001b[0m \u001b[32m━━━━━━━━━━━━━━━━━━━━\u001b[0m\u001b[37m\u001b[0m \u001b[1m1s\u001b[0m 2ms/step - loss: 7052973568.0000 - mae: 65833.1328 - val_loss: 7572649472.0000 - val_mae: 67219.3828\n",
            "Epoch 13/100\n",
            "\u001b[1m465/465\u001b[0m \u001b[32m━━━━━━━━━━━━━━━━━━━━\u001b[0m\u001b[37m\u001b[0m \u001b[1m1s\u001b[0m 2ms/step - loss: 7081413120.0000 - mae: 65771.6797 - val_loss: 7441158144.0000 - val_mae: 66174.1797\n",
            "Epoch 14/100\n",
            "\u001b[1m465/465\u001b[0m \u001b[32m━━━━━━━━━━━━━━━━━━━━\u001b[0m\u001b[37m\u001b[0m \u001b[1m1s\u001b[0m 2ms/step - loss: 7129178624.0000 - mae: 65700.1172 - val_loss: 7313367040.0000 - val_mae: 65557.8047\n",
            "Epoch 15/100\n",
            "\u001b[1m465/465\u001b[0m \u001b[32m━━━━━━━━━━━━━━━━━━━━\u001b[0m\u001b[37m\u001b[0m \u001b[1m1s\u001b[0m 2ms/step - loss: 6881853440.0000 - mae: 64441.3008 - val_loss: 7195752448.0000 - val_mae: 64673.8359\n",
            "Epoch 16/100\n",
            "\u001b[1m465/465\u001b[0m \u001b[32m━━━━━━━━━━━━━━━━━━━━\u001b[0m\u001b[37m\u001b[0m \u001b[1m1s\u001b[0m 2ms/step - loss: 6749074432.0000 - mae: 63653.4023 - val_loss: 7086221312.0000 - val_mae: 63832.4258\n",
            "Epoch 17/100\n",
            "\u001b[1m465/465\u001b[0m \u001b[32m━━━━━━━━━━━━━━━━━━━━\u001b[0m\u001b[37m\u001b[0m \u001b[1m1s\u001b[0m 2ms/step - loss: 6758568960.0000 - mae: 63445.0820 - val_loss: 6980902400.0000 - val_mae: 63296.9727\n",
            "Epoch 18/100\n",
            "\u001b[1m465/465\u001b[0m \u001b[32m━━━━━━━━━━━━━━━━━━━━\u001b[0m\u001b[37m\u001b[0m \u001b[1m1s\u001b[0m 2ms/step - loss: 6631538176.0000 - mae: 62063.5234 - val_loss: 6883860992.0000 - val_mae: 62797.2461\n",
            "Epoch 19/100\n",
            "\u001b[1m465/465\u001b[0m \u001b[32m━━━━━━━━━━━━━━━━━━━━\u001b[0m\u001b[37m\u001b[0m \u001b[1m1s\u001b[0m 2ms/step - loss: 6307433472.0000 - mae: 60940.1602 - val_loss: 6797439488.0000 - val_mae: 62429.4609\n",
            "Epoch 20/100\n",
            "\u001b[1m465/465\u001b[0m \u001b[32m━━━━━━━━━━━━━━━━━━━━\u001b[0m\u001b[37m\u001b[0m \u001b[1m1s\u001b[0m 2ms/step - loss: 6267855360.0000 - mae: 60705.5469 - val_loss: 6719494144.0000 - val_mae: 61844.3398\n",
            "Epoch 21/100\n",
            "\u001b[1m465/465\u001b[0m \u001b[32m━━━━━━━━━━━━━━━━━━━━\u001b[0m\u001b[37m\u001b[0m \u001b[1m2s\u001b[0m 4ms/step - loss: 6252041216.0000 - mae: 60777.1133 - val_loss: 6652544512.0000 - val_mae: 61145.8945\n",
            "Epoch 22/100\n",
            "\u001b[1m465/465\u001b[0m \u001b[32m━━━━━━━━━━━━━━━━━━━━\u001b[0m\u001b[37m\u001b[0m \u001b[1m1s\u001b[0m 2ms/step - loss: 6343388160.0000 - mae: 60852.4336 - val_loss: 6591846912.0000 - val_mae: 60686.3516\n",
            "Epoch 23/100\n",
            "\u001b[1m465/465\u001b[0m \u001b[32m━━━━━━━━━━━━━━━━━━━━\u001b[0m\u001b[37m\u001b[0m \u001b[1m1s\u001b[0m 2ms/step - loss: 6316948480.0000 - mae: 60163.8828 - val_loss: 6536647680.0000 - val_mae: 60501.9023\n",
            "Epoch 24/100\n",
            "\u001b[1m465/465\u001b[0m \u001b[32m━━━━━━━━━━━━━━━━━━━━\u001b[0m\u001b[37m\u001b[0m \u001b[1m1s\u001b[0m 2ms/step - loss: 6196395008.0000 - mae: 59635.6602 - val_loss: 6490904576.0000 - val_mae: 60068.5195\n",
            "Epoch 25/100\n",
            "\u001b[1m465/465\u001b[0m \u001b[32m━━━━━━━━━━━━━━━━━━━━\u001b[0m\u001b[37m\u001b[0m \u001b[1m1s\u001b[0m 2ms/step - loss: 6106588160.0000 - mae: 58639.4453 - val_loss: 6454247424.0000 - val_mae: 59629.8789\n",
            "Epoch 26/100\n",
            "\u001b[1m465/465\u001b[0m \u001b[32m━━━━━━━━━━━━━━━━━━━━\u001b[0m\u001b[37m\u001b[0m \u001b[1m1s\u001b[0m 2ms/step - loss: 6023659008.0000 - mae: 58208.7930 - val_loss: 6418436608.0000 - val_mae: 59496.0430\n",
            "Epoch 27/100\n",
            "\u001b[1m465/465\u001b[0m \u001b[32m━━━━━━━━━━━━━━━━━━━━\u001b[0m\u001b[37m\u001b[0m \u001b[1m1s\u001b[0m 2ms/step - loss: 6052195840.0000 - mae: 58329.9766 - val_loss: 6391353344.0000 - val_mae: 59116.2148\n",
            "Epoch 28/100\n",
            "\u001b[1m465/465\u001b[0m \u001b[32m━━━━━━━━━━━━━━━━━━━━\u001b[0m\u001b[37m\u001b[0m \u001b[1m1s\u001b[0m 2ms/step - loss: 6020342272.0000 - mae: 58302.3008 - val_loss: 6366688768.0000 - val_mae: 58911.1094\n",
            "Epoch 29/100\n",
            "\u001b[1m465/465\u001b[0m \u001b[32m━━━━━━━━━━━━━━━━━━━━\u001b[0m\u001b[37m\u001b[0m \u001b[1m1s\u001b[0m 2ms/step - loss: 5983707648.0000 - mae: 57472.4805 - val_loss: 6340915712.0000 - val_mae: 58985.3359\n",
            "Epoch 30/100\n",
            "\u001b[1m465/465\u001b[0m \u001b[32m━━━━━━━━━━━━━━━━━━━━\u001b[0m\u001b[37m\u001b[0m \u001b[1m1s\u001b[0m 2ms/step - loss: 5727409664.0000 - mae: 56738.0781 - val_loss: 6321841152.0000 - val_mae: 58796.3398\n",
            "Epoch 31/100\n",
            "\u001b[1m465/465\u001b[0m \u001b[32m━━━━━━━━━━━━━━━━━━━━\u001b[0m\u001b[37m\u001b[0m \u001b[1m2s\u001b[0m 4ms/step - loss: 5885318144.0000 - mae: 57128.9023 - val_loss: 6305295872.0000 - val_mae: 58594.0430\n",
            "Epoch 32/100\n",
            "\u001b[1m465/465\u001b[0m \u001b[32m━━━━━━━━━━━━━━━━━━━━\u001b[0m\u001b[37m\u001b[0m \u001b[1m2s\u001b[0m 4ms/step - loss: 5716770816.0000 - mae: 56625.7695 - val_loss: 6290230272.0000 - val_mae: 58496.6641\n",
            "Epoch 33/100\n",
            "\u001b[1m465/465\u001b[0m \u001b[32m━━━━━━━━━━━━━━━━━━━━\u001b[0m\u001b[37m\u001b[0m \u001b[1m1s\u001b[0m 2ms/step - loss: 5982723072.0000 - mae: 57220.5820 - val_loss: 6277528576.0000 - val_mae: 58333.9531\n",
            "Epoch 34/100\n",
            "\u001b[1m465/465\u001b[0m \u001b[32m━━━━━━━━━━━━━━━━━━━━\u001b[0m\u001b[37m\u001b[0m \u001b[1m1s\u001b[0m 2ms/step - loss: 5695011840.0000 - mae: 56396.3828 - val_loss: 6263784448.0000 - val_mae: 58430.6016\n",
            "Epoch 35/100\n",
            "\u001b[1m465/465\u001b[0m \u001b[32m━━━━━━━━━━━━━━━━━━━━\u001b[0m\u001b[37m\u001b[0m \u001b[1m1s\u001b[0m 2ms/step - loss: 5932037120.0000 - mae: 56954.9023 - val_loss: 6253998592.0000 - val_mae: 58153.6211\n",
            "Epoch 36/100\n",
            "\u001b[1m465/465\u001b[0m \u001b[32m━━━━━━━━━━━━━━━━━━━━\u001b[0m\u001b[37m\u001b[0m \u001b[1m1s\u001b[0m 2ms/step - loss: 5808739840.0000 - mae: 56526.9492 - val_loss: 6243316224.0000 - val_mae: 58096.6055\n",
            "Epoch 37/100\n",
            "\u001b[1m465/465\u001b[0m \u001b[32m━━━━━━━━━━━━━━━━━━━━\u001b[0m\u001b[37m\u001b[0m \u001b[1m1s\u001b[0m 3ms/step - loss: 6007489536.0000 - mae: 57219.5508 - val_loss: 6235741184.0000 - val_mae: 57875.9023\n",
            "Epoch 38/100\n",
            "\u001b[1m465/465\u001b[0m \u001b[32m━━━━━━━━━━━━━━━━━━━━\u001b[0m\u001b[37m\u001b[0m \u001b[1m1s\u001b[0m 2ms/step - loss: 5770900480.0000 - mae: 56196.5156 - val_loss: 6223877632.0000 - val_mae: 57982.5000\n",
            "Epoch 39/100\n",
            "\u001b[1m465/465\u001b[0m \u001b[32m━━━━━━━━━━━━━━━━━━━━\u001b[0m\u001b[37m\u001b[0m \u001b[1m1s\u001b[0m 2ms/step - loss: 5822189056.0000 - mae: 56278.1992 - val_loss: 6217386496.0000 - val_mae: 57772.5117\n",
            "Epoch 40/100\n",
            "\u001b[1m465/465\u001b[0m \u001b[32m━━━━━━━━━━━━━━━━━━━━\u001b[0m\u001b[37m\u001b[0m \u001b[1m1s\u001b[0m 2ms/step - loss: 5880692224.0000 - mae: 56715.9023 - val_loss: 6211557888.0000 - val_mae: 57604.6523\n",
            "Epoch 41/100\n",
            "\u001b[1m465/465\u001b[0m \u001b[32m━━━━━━━━━━━━━━━━━━━━\u001b[0m\u001b[37m\u001b[0m \u001b[1m2s\u001b[0m 4ms/step - loss: 5651235840.0000 - mae: 55287.1641 - val_loss: 6198262784.0000 - val_mae: 57966.2461\n",
            "Epoch 42/100\n",
            "\u001b[1m465/465\u001b[0m \u001b[32m━━━━━━━━━━━━━━━━━━━━\u001b[0m\u001b[37m\u001b[0m \u001b[1m2s\u001b[0m 2ms/step - loss: 5838570496.0000 - mae: 56362.3945 - val_loss: 6190344704.0000 - val_mae: 57880.1406\n",
            "Epoch 43/100\n",
            "\u001b[1m465/465\u001b[0m \u001b[32m━━━━━━━━━━━━━━━━━━━━\u001b[0m\u001b[37m\u001b[0m \u001b[1m1s\u001b[0m 2ms/step - loss: 5806415872.0000 - mae: 56390.0391 - val_loss: 6183497216.0000 - val_mae: 57660.7852\n",
            "Epoch 44/100\n",
            "\u001b[1m465/465\u001b[0m \u001b[32m━━━━━━━━━━━━━━━━━━━━\u001b[0m\u001b[37m\u001b[0m \u001b[1m1s\u001b[0m 2ms/step - loss: 5673089536.0000 - mae: 55795.2422 - val_loss: 6176446464.0000 - val_mae: 57585.3164\n",
            "Epoch 45/100\n",
            "\u001b[1m465/465\u001b[0m \u001b[32m━━━━━━━━━━━━━━━━━━━━\u001b[0m\u001b[37m\u001b[0m \u001b[1m1s\u001b[0m 2ms/step - loss: 5778545152.0000 - mae: 56104.2734 - val_loss: 6168342016.0000 - val_mae: 57570.9727\n",
            "Epoch 46/100\n",
            "\u001b[1m465/465\u001b[0m \u001b[32m━━━━━━━━━━━━━━━━━━━━\u001b[0m\u001b[37m\u001b[0m \u001b[1m1s\u001b[0m 2ms/step - loss: 5796772352.0000 - mae: 56043.9336 - val_loss: 6165803520.0000 - val_mae: 57290.4805\n",
            "Epoch 47/100\n",
            "\u001b[1m465/465\u001b[0m \u001b[32m━━━━━━━━━━━━━━━━━━━━\u001b[0m\u001b[37m\u001b[0m \u001b[1m1s\u001b[0m 2ms/step - loss: 5580653056.0000 - mae: 55139.2578 - val_loss: 6153796608.0000 - val_mae: 57501.9375\n",
            "Epoch 48/100\n",
            "\u001b[1m465/465\u001b[0m \u001b[32m━━━━━━━━━━━━━━━━━━━━\u001b[0m\u001b[37m\u001b[0m \u001b[1m1s\u001b[0m 2ms/step - loss: 5830063616.0000 - mae: 56507.7969 - val_loss: 6148455936.0000 - val_mae: 57323.8633\n",
            "Epoch 49/100\n",
            "\u001b[1m465/465\u001b[0m \u001b[32m━━━━━━━━━━━━━━━━━━━━\u001b[0m\u001b[37m\u001b[0m \u001b[1m1s\u001b[0m 2ms/step - loss: 5699221504.0000 - mae: 55150.7891 - val_loss: 6139251712.0000 - val_mae: 57450.8203\n",
            "Epoch 50/100\n",
            "\u001b[1m465/465\u001b[0m \u001b[32m━━━━━━━━━━━━━━━━━━━━\u001b[0m\u001b[37m\u001b[0m \u001b[1m1s\u001b[0m 2ms/step - loss: 5869780992.0000 - mae: 56179.4375 - val_loss: 6132951552.0000 - val_mae: 57329.0156\n",
            "Epoch 51/100\n",
            "\u001b[1m465/465\u001b[0m \u001b[32m━━━━━━━━━━━━━━━━━━━━\u001b[0m\u001b[37m\u001b[0m \u001b[1m2s\u001b[0m 4ms/step - loss: 5503611904.0000 - mae: 54959.2461 - val_loss: 6125566464.0000 - val_mae: 57366.7734\n",
            "Epoch 52/100\n",
            "\u001b[1m465/465\u001b[0m \u001b[32m━━━━━━━━━━━━━━━━━━━━\u001b[0m\u001b[37m\u001b[0m \u001b[1m2s\u001b[0m 3ms/step - loss: 5708553728.0000 - mae: 55597.7773 - val_loss: 6119086592.0000 - val_mae: 57307.2188\n",
            "Epoch 53/100\n",
            "\u001b[1m465/465\u001b[0m \u001b[32m━━━━━━━━━━━━━━━━━━━━\u001b[0m\u001b[37m\u001b[0m \u001b[1m1s\u001b[0m 2ms/step - loss: 5652678144.0000 - mae: 55231.8047 - val_loss: 6113028096.0000 - val_mae: 57206.0977\n",
            "Epoch 54/100\n",
            "\u001b[1m465/465\u001b[0m \u001b[32m━━━━━━━━━━━━━━━━━━━━\u001b[0m\u001b[37m\u001b[0m \u001b[1m1s\u001b[0m 2ms/step - loss: 5755011072.0000 - mae: 55767.0352 - val_loss: 6105669632.0000 - val_mae: 57254.7852\n",
            "Epoch 55/100\n",
            "\u001b[1m465/465\u001b[0m \u001b[32m━━━━━━━━━━━━━━━━━━━━\u001b[0m\u001b[37m\u001b[0m \u001b[1m1s\u001b[0m 2ms/step - loss: 5848806400.0000 - mae: 56285.7383 - val_loss: 6100178944.0000 - val_mae: 57098.3984\n",
            "Epoch 56/100\n",
            "\u001b[1m465/465\u001b[0m \u001b[32m━━━━━━━━━━━━━━━━━━━━\u001b[0m\u001b[37m\u001b[0m \u001b[1m1s\u001b[0m 2ms/step - loss: 5681396736.0000 - mae: 55566.9531 - val_loss: 6093537792.0000 - val_mae: 57070.4727\n",
            "Epoch 57/100\n",
            "\u001b[1m465/465\u001b[0m \u001b[32m━━━━━━━━━━━━━━━━━━━━\u001b[0m\u001b[37m\u001b[0m \u001b[1m1s\u001b[0m 2ms/step - loss: 5795034624.0000 - mae: 55942.7227 - val_loss: 6086264320.0000 - val_mae: 57111.7539\n",
            "Epoch 58/100\n",
            "\u001b[1m465/465\u001b[0m \u001b[32m━━━━━━━━━━━━━━━━━━━━\u001b[0m\u001b[37m\u001b[0m \u001b[1m1s\u001b[0m 2ms/step - loss: 5735989248.0000 - mae: 55665.5781 - val_loss: 6079487488.0000 - val_mae: 57181.1172\n",
            "Epoch 59/100\n",
            "\u001b[1m465/465\u001b[0m \u001b[32m━━━━━━━━━━━━━━━━━━━━\u001b[0m\u001b[37m\u001b[0m \u001b[1m1s\u001b[0m 2ms/step - loss: 5600525824.0000 - mae: 55214.7930 - val_loss: 6073213952.0000 - val_mae: 57025.5273\n",
            "Epoch 60/100\n",
            "\u001b[1m465/465\u001b[0m \u001b[32m━━━━━━━━━━━━━━━━━━━━\u001b[0m\u001b[37m\u001b[0m \u001b[1m1s\u001b[0m 2ms/step - loss: 5701206528.0000 - mae: 55515.2188 - val_loss: 6067579904.0000 - val_mae: 56923.5703\n",
            "Epoch 61/100\n",
            "\u001b[1m465/465\u001b[0m \u001b[32m━━━━━━━━━━━━━━━━━━━━\u001b[0m\u001b[37m\u001b[0m \u001b[1m2s\u001b[0m 3ms/step - loss: 5588081152.0000 - mae: 54908.5938 - val_loss: 6060853248.0000 - val_mae: 56893.7969\n",
            "Epoch 62/100\n",
            "\u001b[1m465/465\u001b[0m \u001b[32m━━━━━━━━━━━━━━━━━━━━\u001b[0m\u001b[37m\u001b[0m \u001b[1m2s\u001b[0m 2ms/step - loss: 5706330624.0000 - mae: 55343.2578 - val_loss: 6054297600.0000 - val_mae: 56863.4492\n",
            "Epoch 63/100\n",
            "\u001b[1m465/465\u001b[0m \u001b[32m━━━━━━━━━━━━━━━━━━━━\u001b[0m\u001b[37m\u001b[0m \u001b[1m1s\u001b[0m 2ms/step - loss: 5678776832.0000 - mae: 55420.1641 - val_loss: 6047392256.0000 - val_mae: 56886.5703\n",
            "Epoch 64/100\n",
            "\u001b[1m465/465\u001b[0m \u001b[32m━━━━━━━━━━━━━━━━━━━━\u001b[0m\u001b[37m\u001b[0m \u001b[1m1s\u001b[0m 2ms/step - loss: 5776595456.0000 - mae: 55495.7539 - val_loss: 6041598464.0000 - val_mae: 56785.0312\n",
            "Epoch 65/100\n",
            "\u001b[1m465/465\u001b[0m \u001b[32m━━━━━━━━━━━━━━━━━━━━\u001b[0m\u001b[37m\u001b[0m \u001b[1m1s\u001b[0m 2ms/step - loss: 5781940224.0000 - mae: 55708.9219 - val_loss: 6035496960.0000 - val_mae: 56725.3789\n",
            "Epoch 66/100\n",
            "\u001b[1m465/465\u001b[0m \u001b[32m━━━━━━━━━━━━━━━━━━━━\u001b[0m\u001b[37m\u001b[0m \u001b[1m1s\u001b[0m 2ms/step - loss: 5732370432.0000 - mae: 55329.8555 - val_loss: 6030721024.0000 - val_mae: 56608.6602\n",
            "Epoch 67/100\n",
            "\u001b[1m465/465\u001b[0m \u001b[32m━━━━━━━━━━━━━━━━━━━━\u001b[0m\u001b[37m\u001b[0m \u001b[1m1s\u001b[0m 2ms/step - loss: 5680228352.0000 - mae: 55015.9414 - val_loss: 6023132672.0000 - val_mae: 56643.9727\n",
            "Epoch 68/100\n",
            "\u001b[1m465/465\u001b[0m \u001b[32m━━━━━━━━━━━━━━━━━━━━\u001b[0m\u001b[37m\u001b[0m \u001b[1m1s\u001b[0m 2ms/step - loss: 5437351424.0000 - mae: 54275.8242 - val_loss: 6015709696.0000 - val_mae: 56672.6719\n",
            "Epoch 69/100\n",
            "\u001b[1m465/465\u001b[0m \u001b[32m━━━━━━━━━━━━━━━━━━━━\u001b[0m\u001b[37m\u001b[0m \u001b[1m1s\u001b[0m 2ms/step - loss: 5709976576.0000 - mae: 55275.2266 - val_loss: 6011342848.0000 - val_mae: 56510.6094\n",
            "Epoch 70/100\n",
            "\u001b[1m465/465\u001b[0m \u001b[32m━━━━━━━━━━━━━━━━━━━━\u001b[0m\u001b[37m\u001b[0m \u001b[1m1s\u001b[0m 3ms/step - loss: 5562363904.0000 - mae: 54880.5078 - val_loss: 6005015552.0000 - val_mae: 56483.9375\n",
            "Epoch 71/100\n",
            "\u001b[1m465/465\u001b[0m \u001b[32m━━━━━━━━━━━━━━━━━━━━\u001b[0m\u001b[37m\u001b[0m \u001b[1m3s\u001b[0m 6ms/step - loss: 5720155648.0000 - mae: 55479.1133 - val_loss: 5998199808.0000 - val_mae: 56477.3945\n",
            "Epoch 72/100\n",
            "\u001b[1m465/465\u001b[0m \u001b[32m━━━━━━━━━━━━━━━━━━━━\u001b[0m\u001b[37m\u001b[0m \u001b[1m1s\u001b[0m 2ms/step - loss: 5730881024.0000 - mae: 55306.0781 - val_loss: 5992142848.0000 - val_mae: 56426.4375\n",
            "Epoch 73/100\n",
            "\u001b[1m465/465\u001b[0m \u001b[32m━━━━━━━━━━━━━━━━━━━━\u001b[0m\u001b[37m\u001b[0m \u001b[1m1s\u001b[0m 2ms/step - loss: 5662523904.0000 - mae: 55370.4609 - val_loss: 5984248832.0000 - val_mae: 56497.2734\n",
            "Epoch 74/100\n",
            "\u001b[1m465/465\u001b[0m \u001b[32m━━━━━━━━━━━━━━━━━━━━\u001b[0m\u001b[37m\u001b[0m \u001b[1m1s\u001b[0m 2ms/step - loss: 5491416064.0000 - mae: 54525.1016 - val_loss: 5978239488.0000 - val_mae: 56444.6719\n",
            "Epoch 75/100\n",
            "\u001b[1m465/465\u001b[0m \u001b[32m━━━━━━━━━━━━━━━━━━━━\u001b[0m\u001b[37m\u001b[0m \u001b[1m1s\u001b[0m 2ms/step - loss: 5663391232.0000 - mae: 54894.7695 - val_loss: 5971563008.0000 - val_mae: 56452.4453\n",
            "Epoch 76/100\n",
            "\u001b[1m465/465\u001b[0m \u001b[32m━━━━━━━━━━━━━━━━━━━━\u001b[0m\u001b[37m\u001b[0m \u001b[1m1s\u001b[0m 2ms/step - loss: 5484423680.0000 - mae: 54254.7891 - val_loss: 5965783040.0000 - val_mae: 56378.7422\n",
            "Epoch 77/100\n",
            "\u001b[1m465/465\u001b[0m \u001b[32m━━━━━━━━━━━━━━━━━━━━\u001b[0m\u001b[37m\u001b[0m \u001b[1m1s\u001b[0m 2ms/step - loss: 5617663488.0000 - mae: 54803.5664 - val_loss: 5960510464.0000 - val_mae: 56272.1875\n",
            "Epoch 78/100\n",
            "\u001b[1m465/465\u001b[0m \u001b[32m━━━━━━━━━━━━━━━━━━━━\u001b[0m\u001b[37m\u001b[0m \u001b[1m1s\u001b[0m 2ms/step - loss: 5560962560.0000 - mae: 54863.2578 - val_loss: 5955994112.0000 - val_mae: 56156.6484\n",
            "Epoch 79/100\n",
            "\u001b[1m465/465\u001b[0m \u001b[32m━━━━━━━━━━━━━━━━━━━━\u001b[0m\u001b[37m\u001b[0m \u001b[1m1s\u001b[0m 2ms/step - loss: 5588631552.0000 - mae: 54547.5859 - val_loss: 5947332096.0000 - val_mae: 56241.9922\n",
            "Epoch 80/100\n",
            "\u001b[1m465/465\u001b[0m \u001b[32m━━━━━━━━━━━━━━━━━━━━\u001b[0m\u001b[37m\u001b[0m \u001b[1m1s\u001b[0m 3ms/step - loss: 5572478976.0000 - mae: 54741.1211 - val_loss: 5942830592.0000 - val_mae: 56119.6328\n",
            "Epoch 81/100\n",
            "\u001b[1m465/465\u001b[0m \u001b[32m━━━━━━━━━━━━━━━━━━━━\u001b[0m\u001b[37m\u001b[0m \u001b[1m2s\u001b[0m 3ms/step - loss: 5631129088.0000 - mae: 54874.9531 - val_loss: 5936628736.0000 - val_mae: 56088.2188\n",
            "Epoch 82/100\n",
            "\u001b[1m465/465\u001b[0m \u001b[32m━━━━━━━━━━━━━━━━━━━━\u001b[0m\u001b[37m\u001b[0m \u001b[1m1s\u001b[0m 3ms/step - loss: 5493756928.0000 - mae: 54303.6719 - val_loss: 5931620352.0000 - val_mae: 56002.9688\n",
            "Epoch 83/100\n",
            "\u001b[1m465/465\u001b[0m \u001b[32m━━━━━━━━━━━━━━━━━━━━\u001b[0m\u001b[37m\u001b[0m \u001b[1m1s\u001b[0m 2ms/step - loss: 5490294272.0000 - mae: 54120.8906 - val_loss: 5921740800.0000 - val_mae: 56271.4414\n",
            "Epoch 84/100\n",
            "\u001b[1m465/465\u001b[0m \u001b[32m━━━━━━━━━━━━━━━━━━━━\u001b[0m\u001b[37m\u001b[0m \u001b[1m1s\u001b[0m 2ms/step - loss: 5447428608.0000 - mae: 53896.3828 - val_loss: 5918185984.0000 - val_mae: 55979.3984\n",
            "Epoch 85/100\n",
            "\u001b[1m465/465\u001b[0m \u001b[32m━━━━━━━━━━━━━━━━━━━━\u001b[0m\u001b[37m\u001b[0m \u001b[1m1s\u001b[0m 2ms/step - loss: 5586920960.0000 - mae: 54509.9648 - val_loss: 5909671424.0000 - val_mae: 56106.8867\n",
            "Epoch 86/100\n",
            "\u001b[1m465/465\u001b[0m \u001b[32m━━━━━━━━━━━━━━━━━━━━\u001b[0m\u001b[37m\u001b[0m \u001b[1m1s\u001b[0m 2ms/step - loss: 5626076672.0000 - mae: 55017.5508 - val_loss: 5904520192.0000 - val_mae: 55982.5820\n",
            "Epoch 87/100\n",
            "\u001b[1m465/465\u001b[0m \u001b[32m━━━━━━━━━━━━━━━━━━━━\u001b[0m\u001b[37m\u001b[0m \u001b[1m1s\u001b[0m 2ms/step - loss: 5529293312.0000 - mae: 54740.2188 - val_loss: 5900531200.0000 - val_mae: 55850.3594\n",
            "Epoch 88/100\n",
            "\u001b[1m465/465\u001b[0m \u001b[32m━━━━━━━━━━━━━━━━━━━━\u001b[0m\u001b[37m\u001b[0m \u001b[1m1s\u001b[0m 2ms/step - loss: 5402384896.0000 - mae: 53845.7461 - val_loss: 5891301888.0000 - val_mae: 56049.9766\n",
            "Epoch 89/100\n",
            "\u001b[1m465/465\u001b[0m \u001b[32m━━━━━━━━━━━━━━━━━━━━\u001b[0m\u001b[37m\u001b[0m \u001b[1m1s\u001b[0m 2ms/step - loss: 5517716992.0000 - mae: 54422.3359 - val_loss: 5886192640.0000 - val_mae: 55904.2227\n",
            "Epoch 90/100\n",
            "\u001b[1m465/465\u001b[0m \u001b[32m━━━━━━━━━━━━━━━━━━━━\u001b[0m\u001b[37m\u001b[0m \u001b[1m1s\u001b[0m 2ms/step - loss: 5629370880.0000 - mae: 54877.2695 - val_loss: 5879370240.0000 - val_mae: 55938.6797\n",
            "Epoch 91/100\n",
            "\u001b[1m465/465\u001b[0m \u001b[32m━━━━━━━━━━━━━━━━━━━━\u001b[0m\u001b[37m\u001b[0m \u001b[1m2s\u001b[0m 4ms/step - loss: 5584763904.0000 - mae: 54668.7734 - val_loss: 5879059456.0000 - val_mae: 55613.1797\n",
            "Epoch 92/100\n",
            "\u001b[1m465/465\u001b[0m \u001b[32m━━━━━━━━━━━━━━━━━━━━\u001b[0m\u001b[37m\u001b[0m \u001b[1m2s\u001b[0m 3ms/step - loss: 5603462656.0000 - mae: 54772.7461 - val_loss: 5869456896.0000 - val_mae: 55698.1641\n",
            "Epoch 93/100\n",
            "\u001b[1m465/465\u001b[0m \u001b[32m━━━━━━━━━━━━━━━━━━━━\u001b[0m\u001b[37m\u001b[0m \u001b[1m1s\u001b[0m 2ms/step - loss: 5561590784.0000 - mae: 54458.1797 - val_loss: 5860964352.0000 - val_mae: 55811.7852\n",
            "Epoch 94/100\n",
            "\u001b[1m465/465\u001b[0m \u001b[32m━━━━━━━━━━━━━━━━━━━━\u001b[0m\u001b[37m\u001b[0m \u001b[1m1s\u001b[0m 2ms/step - loss: 5446025728.0000 - mae: 53935.7773 - val_loss: 5854240256.0000 - val_mae: 55831.1523\n",
            "Epoch 95/100\n",
            "\u001b[1m465/465\u001b[0m \u001b[32m━━━━━━━━━━━━━━━━━━━━\u001b[0m\u001b[37m\u001b[0m \u001b[1m1s\u001b[0m 2ms/step - loss: 5673989632.0000 - mae: 55036.4844 - val_loss: 5851959296.0000 - val_mae: 55545.4336\n",
            "Epoch 96/100\n",
            "\u001b[1m465/465\u001b[0m \u001b[32m━━━━━━━━━━━━━━━━━━━━\u001b[0m\u001b[37m\u001b[0m \u001b[1m1s\u001b[0m 2ms/step - loss: 5340439552.0000 - mae: 53786.4180 - val_loss: 5843645440.0000 - val_mae: 55620.1055\n",
            "Epoch 97/100\n",
            "\u001b[1m465/465\u001b[0m \u001b[32m━━━━━━━━━━━━━━━━━━━━\u001b[0m\u001b[37m\u001b[0m \u001b[1m1s\u001b[0m 2ms/step - loss: 5330063360.0000 - mae: 53630.7422 - val_loss: 5835983872.0000 - val_mae: 55779.8594\n",
            "Epoch 98/100\n",
            "\u001b[1m465/465\u001b[0m \u001b[32m━━━━━━━━━━━━━━━━━━━━\u001b[0m\u001b[37m\u001b[0m \u001b[1m1s\u001b[0m 2ms/step - loss: 5484651008.0000 - mae: 54664.3750 - val_loss: 5829683200.0000 - val_mae: 55759.0469\n",
            "Epoch 99/100\n",
            "\u001b[1m465/465\u001b[0m \u001b[32m━━━━━━━━━━━━━━━━━━━━\u001b[0m\u001b[37m\u001b[0m \u001b[1m1s\u001b[0m 2ms/step - loss: 5329422848.0000 - mae: 53806.7812 - val_loss: 5823687680.0000 - val_mae: 55659.8516\n",
            "Epoch 100/100\n",
            "\u001b[1m465/465\u001b[0m \u001b[32m━━━━━━━━━━━━━━━━━━━━\u001b[0m\u001b[37m\u001b[0m \u001b[1m1s\u001b[0m 2ms/step - loss: 5409625088.0000 - mae: 54047.5078 - val_loss: 5818524672.0000 - val_mae: 55508.3203\n"
          ]
        }
      ]
    },
    {
      "cell_type": "code",
      "source": [
        "y_pred = model.predict(X_test)\n",
        "mae = mean_absolute_error(y_test, y_pred)\n",
        "mse = mean_squared_error(y_test, y_pred)\n",
        "rmse = np.sqrt(mse)\n",
        "r2 = r2_score(y_test, y_pred)\n",
        "\n",
        "metrics = [\"MAE\", \"MSE\", \"RMSE\", \"R2\"]\n",
        "values = [mae, mse, rmse, r2]\n",
        "\n",
        "for metric, value in zip(metrics, values):\n",
        "    print(f\"{metric}: {value:.2f}\")\n"
      ],
      "metadata": {
        "colab": {
          "base_uri": "https://localhost:8080/"
        },
        "id": "J4ingnPFW5aH",
        "outputId": "620fedde-93b3-4f9f-b996-e5e493f67e9f"
      },
      "execution_count": 59,
      "outputs": [
        {
          "output_type": "stream",
          "name": "stdout",
          "text": [
            "\u001b[1m129/129\u001b[0m \u001b[32m━━━━━━━━━━━━━━━━━━━━\u001b[0m\u001b[37m\u001b[0m \u001b[1m0s\u001b[0m 1ms/step\n",
            "MAE: 54387.23\n",
            "MSE: 5602758697.31\n",
            "RMSE: 74851.58\n",
            "R2: 0.57\n"
          ]
        }
      ]
    }
  ]
}